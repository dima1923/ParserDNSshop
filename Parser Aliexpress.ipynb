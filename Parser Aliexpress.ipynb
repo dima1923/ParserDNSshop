{
 "cells": [
  {
   "cell_type": "code",
   "execution_count": 34,
   "metadata": {},
   "outputs": [],
   "source": [
    "import requests\n",
    "from bs4 import BeautifulSoup"
   ]
  },
  {
   "cell_type": "code",
   "execution_count": 35,
   "metadata": {},
   "outputs": [],
   "source": [
    "def get_html(url):\n",
    "    s=requests.get(url)\n",
    "    return s.text"
   ]
  },
  {
   "cell_type": "code",
   "execution_count": 3,
   "metadata": {},
   "outputs": [],
   "source": [
    "import pandas as pd"
   ]
  },
  {
   "cell_type": "code",
   "execution_count": 4,
   "metadata": {},
   "outputs": [],
   "source": [
    "def parse(url):\n",
    "    ar=[]\n",
    "    html=get_html(url)\n",
    "    soup=BeautifulSoup(html,\"lxml\")\n",
    "    prod_list=soup.find('div',class_=\"catalog-items-list view-list\").find_all(\"div\",class_=\"item\")\n",
    "    for item in prod_list:\n",
    "        chara=dict()\n",
    "        link='https://www.dns-shop.ru'+item.find('div','title').find('a').get('href')\n",
    "        chara['link']=link\n",
    "        chara['name']=item.find('div','title').find('a').find('h3').text\n",
    "        chara['price']=item.find('div',class_='price_g').find('span').get('data-value')\n",
    "        chara['rating']=item.find('div',class_='rating').get('data-rating')\n",
    "        html_product=get_html(link)\n",
    "        soup1=BeautifulSoup(html_product,\"lxml\")\n",
    "        for item in soup1.find('table',class_='table-params table-no-bordered').find_all('tr'):\n",
    "            ch=item.find_all('td')\n",
    "            if(len(ch)==2):\n",
    "                chara[ch[0].find('span').text]=ch[1].text\n",
    "        ar.append(chara)\n",
    "    return ar"
   ]
  },
  {
   "cell_type": "code",
   "execution_count": 44,
   "metadata": {},
   "outputs": [],
   "source": [
    "def get_all_pages():\n",
    "    html=get_html('https://www.dns-shop.ru/catalog/17a8a01d16404e77/smartfony/?p=1&i=1')\n",
    "    soup=BeautifulSoup(html,\"lxml\")\n",
    "    count_page=int(soup.find('span',class_=' item edge mobile end').get('data-page-number'))+1\n",
    "    base='https://www.dns-shop.ru/catalog/17a8a01d16404e77/smartfony/?p='\n",
    "    end='&i=1'\n",
    "    all_pages=[]\n",
    "    for i in range(1,count_page):\n",
    "        url=base+str(i)+end\n",
    "        all_pages+=parse(url)\n",
    "    return all_pages"
   ]
  },
  {
   "cell_type": "code",
   "execution_count": 18,
   "metadata": {},
   "outputs": [
    {
     "name": "stdout",
     "output_type": "stream",
     "text": [
      "50\n",
      "1\n",
      "2\n",
      "3\n",
      "4\n",
      "5\n",
      "6\n",
      "7\n",
      "8\n",
      "9\n",
      "10\n",
      "11\n",
      "12\n",
      "13\n",
      "14\n",
      "15\n",
      "16\n",
      "17\n",
      "18\n",
      "19\n",
      "20\n",
      "21\n",
      "22\n",
      "23\n",
      "24\n",
      "25\n",
      "26\n",
      "27\n",
      "28\n",
      "29\n",
      "30\n",
      "31\n",
      "32\n",
      "33\n",
      "34\n",
      "35\n",
      "36\n",
      "37\n",
      "38\n",
      "39\n",
      "40\n",
      "41\n",
      "42\n",
      "43\n",
      "44\n",
      "45\n",
      "46\n",
      "47\n",
      "48\n",
      "49\n"
     ]
    }
   ],
   "source": [
    "data=get_all_pages()"
   ]
  },
  {
   "cell_type": "code",
   "execution_count": 39,
   "metadata": {},
   "outputs": [],
   "source": [
    "import sqlite3"
   ]
  },
  {
   "cell_type": "code",
   "execution_count": 40,
   "metadata": {},
   "outputs": [],
   "source": [
    "conn = sqlite3.connect('/home/dmitry/Desktop/my')"
   ]
  },
  {
   "cell_type": "code",
   "execution_count": 41,
   "metadata": {},
   "outputs": [
    {
     "name": "stderr",
     "output_type": "stream",
     "text": [
      "/home/dmitry/anaconda3/lib/python3.6/site-packages/pandas/core/generic.py:2127: UserWarning: The spaces in these column names will not be changed. In pandas versions < 0.14, spaces were converted to underscores.\n",
      "  dtype=dtype)\n"
     ]
    }
   ],
   "source": [
    "pd.DataFrame(data).to_sql('dns',conn)"
   ]
  },
  {
   "cell_type": "code",
   "execution_count": null,
   "metadata": {},
   "outputs": [],
   "source": []
  }
 ],
 "metadata": {
  "kernelspec": {
   "display_name": "Python 3",
   "language": "python",
   "name": "python3"
  },
  "language_info": {
   "codemirror_mode": {
    "name": "ipython",
    "version": 3
   },
   "file_extension": ".py",
   "mimetype": "text/x-python",
   "name": "python",
   "nbconvert_exporter": "python",
   "pygments_lexer": "ipython3",
   "version": "3.7.0"
  }
 },
 "nbformat": 4,
 "nbformat_minor": 2
}
